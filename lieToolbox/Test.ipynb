{
 "cells": [
  {
   "attachments": {},
   "cell_type": "markdown",
   "metadata": {},
   "source": [
    "# Nilpotent Orbit Toolbox"
   ]
  },
  {
   "cell_type": "code",
   "execution_count": 1,
   "metadata": {},
   "outputs": [],
   "source": [
    "from weight import Weight, NilpotentOrbit, HighestWeightModule"
   ]
  },
  {
   "attachments": {},
   "cell_type": "markdown",
   "metadata": {},
   "source": [
    "## Basic Operations\n",
    "### Weight and Weyl group element operations"
   ]
  },
  {
   "cell_type": "code",
   "execution_count": 2,
   "metadata": {},
   "outputs": [
    {
     "name": "stdout",
     "output_type": "stream",
     "text": [
      "[-8, -7, -6, -5, -4, -3, -2.5, -2, -1.6, -1.5, -1.1, -1, -0.4, -0.1] Weight of type D\n",
      "[-8, -6, -5, -4] Weight of type B\n"
     ]
    }
   ],
   "source": [
    "entry = [1.1, 2, 0.1, 1.5, 4, 2.5, -1, 7, -3, 6, -8, 5, 1.6, 0.4]\n",
    "lbd = Weight(entry, 'D')    # Create a weight (infinitesimal character)\n",
    "lbd_1 = lbd.getAntidominant()\n",
    "lbd_1.show()\n",
    "\n",
    "lbd = Weight([-5, -4, -6, -8], 'B')\n",
    "lbd.getAntidominant().show()"
   ]
  },
  {
   "cell_type": "code",
   "execution_count": 3,
   "metadata": {},
   "outputs": [
    {
     "name": "stdout",
     "output_type": "stream",
     "text": [
      "[-3] lieType: B\n"
     ]
    }
   ],
   "source": [
    "w_1 = Weight.getWeylGroupElement(lbd, lbd_1)\n",
    "w_1.show()"
   ]
  },
  {
   "attachments": {},
   "cell_type": "markdown",
   "metadata": {},
   "source": [
    "### Construct the Tableau"
   ]
  },
  {
   "cell_type": "code",
   "execution_count": 4,
   "metadata": {},
   "outputs": [
    {
     "name": "stdout",
     "output_type": "stream",
     "text": [
      "Weight struct of type B\n",
      "\t Integral part: [-5, -4, -6, -8]\n",
      "\t Half integral part: []\n",
      "\t Rest part:\n",
      "None\n"
     ]
    }
   ],
   "source": [
    "lbd_struct = lbd.decomposition()\n",
    "lbd_struct.show()"
   ]
  },
  {
   "cell_type": "code",
   "execution_count": 5,
   "metadata": {},
   "outputs": [
    {
     "name": "stdout",
     "output_type": "stream",
     "text": [
      "[2, 1, 1]\n"
     ]
    }
   ],
   "source": [
    "lbd_integral = lbd_struct.Integral\n",
    "p = lbd_integral.constructPartition()\n",
    "p.show()"
   ]
  },
  {
   "attachments": {},
   "cell_type": "markdown",
   "metadata": {},
   "source": [
    "### Lusztig Symbol operation"
   ]
  },
  {
   "cell_type": "code",
   "execution_count": 6,
   "metadata": {},
   "outputs": [
    {
     "name": "stdout",
     "output_type": "stream",
     "text": [
      "B Symbol\n",
      "Top row: [1, 2]\n",
      "Bottom row [0]\n"
     ]
    }
   ],
   "source": [
    "symbol = p.convert2Symbol()\n",
    "symbol.show()"
   ]
  },
  {
   "cell_type": "code",
   "execution_count": 7,
   "metadata": {},
   "outputs": [
    {
     "name": "stdout",
     "output_type": "stream",
     "text": [
      "B Symbol\n",
      "Top row: [0, 2]\n",
      "Bottom row [1]\n"
     ]
    }
   ],
   "source": [
    "symbol.makeSpecial()\n",
    "symbol.show()"
   ]
  },
  {
   "attachments": {},
   "cell_type": "markdown",
   "metadata": {},
   "source": [
    "## Nilpotent Orbit\n",
    "For highest weight Lie module"
   ]
  },
  {
   "cell_type": "code",
   "execution_count": 8,
   "metadata": {},
   "outputs": [
    {
     "data": {
      "text/plain": [
       "13"
      ]
     },
     "execution_count": 8,
     "metadata": {},
     "output_type": "execute_result"
    }
   ],
   "source": [
    "L = HighestWeightModule(lbd)\n",
    "L.GKdim()"
   ]
  },
  {
   "cell_type": "code",
   "execution_count": 9,
   "metadata": {},
   "outputs": [
    {
     "name": "stdout",
     "output_type": "stream",
     "text": [
      "[5, 2, 2] Nilpotent orbit of type B\n"
     ]
    }
   ],
   "source": [
    "orbit = L.nilpotentOrbit()\n",
    "orbit.show()"
   ]
  },
  {
   "cell_type": "code",
   "execution_count": 10,
   "metadata": {},
   "outputs": [
    {
     "name": "stdout",
     "output_type": "stream",
     "text": [
      "[11, 1] Nilpotent orbit of type D\n",
      "[9, 3] Nilpotent orbit of type D\n",
      "[9, 1, 1, 1] Nilpotent orbit of type D\n",
      "[7, 5] Nilpotent orbit of type D\n",
      "[7, 3, 1, 1] Nilpotent orbit of type D\n",
      "[7, 2, 2, 1] Nilpotent orbit of type D\n",
      "[7, 1, 1, 1, 1, 1] Nilpotent orbit of type D\n",
      "[6, 6] I Nilpotent orbit of type D\n",
      "[6, 6] II Nilpotent orbit of type D\n",
      "[5, 5, 1, 1] Nilpotent orbit of type D\n",
      "[5, 3, 3, 1] Nilpotent orbit of type D\n",
      "[5, 3, 2, 2] Nilpotent orbit of type D\n",
      "[5, 3, 1, 1, 1, 1] Nilpotent orbit of type D\n",
      "[5, 2, 2, 1, 1, 1] Nilpotent orbit of type D\n",
      "[5, 1, 1, 1, 1, 1, 1, 1] Nilpotent orbit of type D\n",
      "[4, 4, 3, 1] Nilpotent orbit of type D\n",
      "[4, 4, 2, 2] I Nilpotent orbit of type D\n",
      "[4, 4, 2, 2] II Nilpotent orbit of type D\n",
      "[4, 4, 1, 1, 1, 1] Nilpotent orbit of type D\n",
      "[3, 3, 3, 3] Nilpotent orbit of type D\n",
      "[3, 3, 3, 1, 1, 1] Nilpotent orbit of type D\n",
      "[3, 3, 2, 2, 1, 1] Nilpotent orbit of type D\n",
      "[3, 3, 1, 1, 1, 1, 1, 1] Nilpotent orbit of type D\n",
      "[3, 2, 2, 2, 2, 1] Nilpotent orbit of type D\n",
      "[3, 2, 2, 1, 1, 1, 1, 1] Nilpotent orbit of type D\n",
      "[3, 1, 1, 1, 1, 1, 1, 1, 1, 1] Nilpotent orbit of type D\n",
      "[2, 2, 2, 2, 2, 2] I Nilpotent orbit of type D\n",
      "[2, 2, 2, 2, 2, 2] II Nilpotent orbit of type D\n",
      "[2, 2, 2, 2, 1, 1, 1, 1] Nilpotent orbit of type D\n",
      "[2, 2, 1, 1, 1, 1, 1, 1, 1, 1] Nilpotent orbit of type D\n",
      "[1, 1, 1, 1, 1, 1, 1, 1, 1, 1, 1, 1] Nilpotent orbit of type D\n"
     ]
    }
   ],
   "source": [
    "orbitList = NilpotentOrbit.generateOrbitList(6, 'D')\n",
    "for _ in orbitList:\n",
    "    _.show()"
   ]
  }
 ],
 "metadata": {
  "kernelspec": {
   "display_name": "venv",
   "language": "python",
   "name": "python3"
  },
  "language_info": {
   "codemirror_mode": {
    "name": "ipython",
    "version": 3
   },
   "file_extension": ".py",
   "mimetype": "text/x-python",
   "name": "python",
   "nbconvert_exporter": "python",
   "pygments_lexer": "ipython3",
   "version": "3.11.0"
  },
  "orig_nbformat": 4
 },
 "nbformat": 4,
 "nbformat_minor": 2
}
